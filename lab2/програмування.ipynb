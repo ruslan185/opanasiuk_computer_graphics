{
 "cells": [
  {
   "cell_type": "code",
   "execution_count": 4,
   "metadata": {},
   "outputs": [],
   "source": [
    "# імпортую бібліотеку pygame, використовую її оскільки маю досвід роботи з нею\n",
    "import pygame as pg"
   ]
  },
  {
   "cell_type": "code",
   "execution_count": 5,
   "metadata": {},
   "outputs": [
    {
     "name": "stdout",
     "output_type": "stream",
     "text": [
      "494 819\n"
     ]
    }
   ],
   "source": [
    "# записую у список циклом фор і певними перетвореннями кортежі координат точок\n",
    "xy = []\n",
    "with open(\"DS1.txt\", \"r\") as f:\n",
    "    for line in f.readlines():\n",
    "        xy.append(tuple(int(el) for el in line.split(\" \")))\n",
    "\n",
    "# перевіряю яке повинне бути вікно(за умовою (960, 540))\n",
    "x=0\n",
    "y=0\n",
    "for el in xy:\n",
    "    if el[0] > x: x = el[0]\n",
    "    if el[-1] > y: y = el[-1]\n",
    "print(x, y)\n",
    "# з експеременту вище можна зробити висновок що вікно має бути (540, 960) а не (960, 540)"
   ]
  },
  {
   "cell_type": "code",
   "execution_count": 6,
   "metadata": {},
   "outputs": [],
   "source": [
    "# ініціалізую бібліотеку\n",
    "pg.init()\n",
    "# створюю вікно розмірами (540, 960)\n",
    "dis = pg.display.set_mode((540, 960))\n",
    "# даю назву вікну\n",
    "pg.display.set_caption(\"lab2\")\n",
    "\n",
    "white = (255,255,255)\n",
    "\n",
    "display = True\n",
    "# роблю цикл коли буде відображатися вікно поки його не закрили\n",
    "while display:\n",
    "    # опрацьовую випадок коли користовач закрив вікно\n",
    "    for event in pg.event.get():\n",
    "        if event.type == pg.QUIT: display = False\n",
    "    # циклом відображаю всі точки шляхом малювання лініх яка починається і закінчується в одному й тому самому місці\n",
    "    for el in xy:\n",
    "        pg.draw.line(dis, white, el, el)\n",
    "    # обновляю війкно\n",
    "    pg.display.update()\n",
    "# при виході з циклу роблю скріншот вікна\n",
    "pg.image.save(dis,\"screenshot.jpg\")\n",
    "pg.quit()"
   ]
  }
 ],
 "metadata": {
  "kernelspec": {
   "display_name": "Python 3.10.8 64-bit (microsoft store)",
   "language": "python",
   "name": "python3"
  },
  "language_info": {
   "codemirror_mode": {
    "name": "ipython",
    "version": 3
   },
   "file_extension": ".py",
   "mimetype": "text/x-python",
   "name": "python",
   "nbconvert_exporter": "python",
   "pygments_lexer": "ipython3",
   "version": "3.10.8"
  },
  "orig_nbformat": 4,
  "vscode": {
   "interpreter": {
    "hash": "75096bb8166ac1c655fdfb7a1e47b85dc05e9ed4ce7b1c9e6634521e91941fb9"
   }
  }
 },
 "nbformat": 4,
 "nbformat_minor": 2
}
