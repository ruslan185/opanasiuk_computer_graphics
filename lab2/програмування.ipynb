{
 "cells": [
  {
   "cell_type": "code",
   "execution_count": 20,
   "metadata": {},
   "outputs": [],
   "source": [
    "import pygame as pg"
   ]
  },
  {
   "cell_type": "code",
   "execution_count": 21,
   "metadata": {},
   "outputs": [
    {
     "name": "stdout",
     "output_type": "stream",
     "text": [
      "494 819\n"
     ]
    }
   ],
   "source": [
    "xy = []\n",
    "with open(\"DS1.txt\", \"r\") as f:\n",
    "    for line in f.readlines():\n",
    "        xy.append(tuple(int(el) for el in line.split(\" \")))\n",
    "x=0\n",
    "y=0\n",
    "for el in xy:\n",
    "    if el[0] > x: x = el[0]\n",
    "    if el[-1] > y: y = el[-1]\n",
    "print(x, y)\n",
    "# з експеременту вище можна зробити висновок що віно має бути (540, 960) а не (960, 540)"
   ]
  },
  {
   "cell_type": "code",
   "execution_count": 23,
   "metadata": {},
   "outputs": [],
   "source": [
    "pg.init()\n",
    "dis = pg.display.set_mode((540, 960))\n",
    "# dis = pg.display.set_mode((960, 540))\n",
    "pg.display.set_caption(\"lab2\")\n",
    "\n",
    "white = (255,255,255)\n",
    "\n",
    "display = True\n",
    "while display:\n",
    "    for event in pg.event.get():\n",
    "        if event.type == pg.QUIT: display = False\n",
    "        \n",
    "    for el in xy:\n",
    "        pg.draw.line(dis, white, el, el)\n",
    "    pg.display.update()\n",
    "pg.quit()"
   ]
  },
  {
   "cell_type": "code",
   "execution_count": null,
   "metadata": {},
   "outputs": [],
   "source": []
  }
 ],
 "metadata": {
  "kernelspec": {
   "display_name": "Python 3.10.8 64-bit (microsoft store)",
   "language": "python",
   "name": "python3"
  },
  "language_info": {
   "codemirror_mode": {
    "name": "ipython",
    "version": 3
   },
   "file_extension": ".py",
   "mimetype": "text/x-python",
   "name": "python",
   "nbconvert_exporter": "python",
   "pygments_lexer": "ipython3",
   "version": "3.10.8"
  },
  "orig_nbformat": 4,
  "vscode": {
   "interpreter": {
    "hash": "75096bb8166ac1c655fdfb7a1e47b85dc05e9ed4ce7b1c9e6634521e91941fb9"
   }
  }
 },
 "nbformat": 4,
 "nbformat_minor": 2
}
