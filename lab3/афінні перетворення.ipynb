{
 "cells": [
  {
   "cell_type": "code",
   "execution_count": 33,
   "metadata": {},
   "outputs": [],
   "source": [
    "import pygame as pg\n",
    "import math"
   ]
  },
  {
   "cell_type": "code",
   "execution_count": 36,
   "metadata": {},
   "outputs": [],
   "source": [
    "# записую у список циклом фор і певними перетвореннями кортежі координат точок\n",
    "xy = []\n",
    "with open(\"DS1.txt\", \"r\") as f:\n",
    "    for line in f.readlines():\n",
    "        xy.append(tuple(int(el) for el in line.split(\" \")))\n",
    "\n",
    "# перевожу кут 20 градусів у радіани\n",
    "alpha = 20*(math.pi/180)\n",
    "XY = []\n",
    "# записую у список циклом фор і певними перетвореннями та розрахунками \n",
    "# (обертання навколо точки (480; 480) на 20 градусів) - кортежі координат точок\n",
    "with open(\"DS1.txt\", \"r\") as f:\n",
    "    for line in f.readlines():\n",
    "        el = [int(el) for el in line.split(\" \")]\n",
    "        el[0] = (el[0]-480)*math.cos(alpha)-(el[-1]-480)*math.sin(alpha)+480\n",
    "        el[-1] = (el[0]-480)*math.sin(alpha)+(el[-1]-480)*math.cos(alpha)+480\n",
    "        XY.append(tuple(el))"
   ]
  },
  {
   "cell_type": "code",
   "execution_count": null,
   "metadata": {},
   "outputs": [],
   "source": [
    "# ініціалізую бібліотеку\n",
    "pg.init()\n",
    "# створюю вікно розмірами (960, 960)\n",
    "dis = pg.display.set_mode((960, 960))\n",
    "# даю назву вікну\n",
    "pg.display.set_caption(\"lab3\")\n",
    "\n",
    "white = (255,255,255)\n",
    "blue = (0, 0, 255)\n",
    "\n",
    "display = True\n",
    "# роблю цикл коли буде відображатися вікно поки його не закрили\n",
    "while display:\n",
    "    # опрацьовую випадок коли користовач закрив вікно\n",
    "    for event in pg.event.get():\n",
    "        if event.type == pg.QUIT: display = False\n",
    "    # циклом відображаю всі точки білим кольором шляхом малювання лініх яка починається і закінчується в одному й тому самому місці\n",
    "    for el in xy:\n",
    "        pg.draw.line(dis, white, el, el)\n",
    "    # циклом відображаю всі нові точки які оберненені на 20 градусів синім кольором таким самим шляхом\n",
    "    for el in XY:\n",
    "        pg.draw.line(dis, blue, el, el)    \n",
    "    # обновляю війкно\n",
    "    pg.display.update()\n",
    "# при виході з циклу роблю скріншот вікна\n",
    "pg.image.save(dis,\"screenshot.jpg\")\n",
    "pg.quit()"
   ]
  }
 ],
 "metadata": {
  "kernelspec": {
   "display_name": "Python 3.10.8 64-bit (microsoft store)",
   "language": "python",
   "name": "python3"
  },
  "language_info": {
   "codemirror_mode": {
    "name": "ipython",
    "version": 3
   },
   "file_extension": ".py",
   "mimetype": "text/x-python",
   "name": "python",
   "nbconvert_exporter": "python",
   "pygments_lexer": "ipython3",
   "version": "3.10.8"
  },
  "orig_nbformat": 4,
  "vscode": {
   "interpreter": {
    "hash": "75096bb8166ac1c655fdfb7a1e47b85dc05e9ed4ce7b1c9e6634521e91941fb9"
   }
  }
 },
 "nbformat": 4,
 "nbformat_minor": 2
}
